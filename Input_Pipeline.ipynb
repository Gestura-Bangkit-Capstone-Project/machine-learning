{
 "cells": [
  {
   "cell_type": "code",
   "execution_count": 1,
   "id": "2f4f4093-049d-4ef8-91d5-e28a93863177",
   "metadata": {},
   "outputs": [],
   "source": [
    "import mediapipe as mp\n",
    "import tensorflow as tf\n",
    "import cv2\n",
    "import numpy as np\n",
    "from matplotlib import pyplot as plt\n",
    "from mediapipe.tasks import python\n",
    "from mediapipe.tasks.python import vision\n"
   ]
  },
  {
   "cell_type": "markdown",
   "id": "76ea1042-5ac1-4686-bc5a-61f774314efe",
   "metadata": {},
   "source": [
    "### Load Model"
   ]
  },
  {
   "cell_type": "code",
   "execution_count": 2,
   "id": "93d9e3dc-9395-434e-abdf-a1b55c906696",
   "metadata": {},
   "outputs": [
    {
     "data": {
      "text/html": [
       "<pre style=\"white-space:pre;overflow-x:auto;line-height:normal;font-family:Menlo,'DejaVu Sans Mono',consolas,'Courier New',monospace\"><span style=\"font-weight: bold\">Model: \"sequential_8\"</span>\n",
       "</pre>\n"
      ],
      "text/plain": [
       "\u001b[1mModel: \"sequential_8\"\u001b[0m\n"
      ]
     },
     "metadata": {},
     "output_type": "display_data"
    },
    {
     "data": {
      "text/html": [
       "<pre style=\"white-space:pre;overflow-x:auto;line-height:normal;font-family:Menlo,'DejaVu Sans Mono',consolas,'Courier New',monospace\">┏━━━━━━━━━━━━━━━━━━━━━━━━━━━━━━━━━━━━━━┳━━━━━━━━━━━━━━━━━━━━━━━━━━━━━┳━━━━━━━━━━━━━━━━━┓\n",
       "┃<span style=\"font-weight: bold\"> Layer (type)                         </span>┃<span style=\"font-weight: bold\"> Output Shape                </span>┃<span style=\"font-weight: bold\">         Param # </span>┃\n",
       "┡━━━━━━━━━━━━━━━━━━━━━━━━━━━━━━━━━━━━━━╇━━━━━━━━━━━━━━━━━━━━━━━━━━━━━╇━━━━━━━━━━━━━━━━━┩\n",
       "│ flatten_9 (<span style=\"color: #0087ff; text-decoration-color: #0087ff\">Flatten</span>)                  │ (<span style=\"color: #00d7ff; text-decoration-color: #00d7ff\">None</span>, <span style=\"color: #00af00; text-decoration-color: #00af00\">126</span>)                 │               <span style=\"color: #00af00; text-decoration-color: #00af00\">0</span> │\n",
       "├──────────────────────────────────────┼─────────────────────────────┼─────────────────┤\n",
       "│ dense_33 (<span style=\"color: #0087ff; text-decoration-color: #0087ff\">Dense</span>)                     │ (<span style=\"color: #00d7ff; text-decoration-color: #00d7ff\">None</span>, <span style=\"color: #00af00; text-decoration-color: #00af00\">512</span>)                 │          <span style=\"color: #00af00; text-decoration-color: #00af00\">65,024</span> │\n",
       "├──────────────────────────────────────┼─────────────────────────────┼─────────────────┤\n",
       "│ dropout_10 (<span style=\"color: #0087ff; text-decoration-color: #0087ff\">Dropout</span>)                 │ (<span style=\"color: #00d7ff; text-decoration-color: #00d7ff\">None</span>, <span style=\"color: #00af00; text-decoration-color: #00af00\">512</span>)                 │               <span style=\"color: #00af00; text-decoration-color: #00af00\">0</span> │\n",
       "├──────────────────────────────────────┼─────────────────────────────┼─────────────────┤\n",
       "│ dense_34 (<span style=\"color: #0087ff; text-decoration-color: #0087ff\">Dense</span>)                     │ (<span style=\"color: #00d7ff; text-decoration-color: #00d7ff\">None</span>, <span style=\"color: #00af00; text-decoration-color: #00af00\">256</span>)                 │         <span style=\"color: #00af00; text-decoration-color: #00af00\">131,328</span> │\n",
       "├──────────────────────────────────────┼─────────────────────────────┼─────────────────┤\n",
       "│ dense_35 (<span style=\"color: #0087ff; text-decoration-color: #0087ff\">Dense</span>)                     │ (<span style=\"color: #00d7ff; text-decoration-color: #00d7ff\">None</span>, <span style=\"color: #00af00; text-decoration-color: #00af00\">128</span>)                 │          <span style=\"color: #00af00; text-decoration-color: #00af00\">32,896</span> │\n",
       "├──────────────────────────────────────┼─────────────────────────────┼─────────────────┤\n",
       "│ dropout_11 (<span style=\"color: #0087ff; text-decoration-color: #0087ff\">Dropout</span>)                 │ (<span style=\"color: #00d7ff; text-decoration-color: #00d7ff\">None</span>, <span style=\"color: #00af00; text-decoration-color: #00af00\">128</span>)                 │               <span style=\"color: #00af00; text-decoration-color: #00af00\">0</span> │\n",
       "├──────────────────────────────────────┼─────────────────────────────┼─────────────────┤\n",
       "│ dense_36 (<span style=\"color: #0087ff; text-decoration-color: #0087ff\">Dense</span>)                     │ (<span style=\"color: #00d7ff; text-decoration-color: #00d7ff\">None</span>, <span style=\"color: #00af00; text-decoration-color: #00af00\">32</span>)                  │           <span style=\"color: #00af00; text-decoration-color: #00af00\">4,128</span> │\n",
       "├──────────────────────────────────────┼─────────────────────────────┼─────────────────┤\n",
       "│ dense_37 (<span style=\"color: #0087ff; text-decoration-color: #0087ff\">Dense</span>)                     │ (<span style=\"color: #00d7ff; text-decoration-color: #00d7ff\">None</span>, <span style=\"color: #00af00; text-decoration-color: #00af00\">26</span>)                  │             <span style=\"color: #00af00; text-decoration-color: #00af00\">858</span> │\n",
       "└──────────────────────────────────────┴─────────────────────────────┴─────────────────┘\n",
       "</pre>\n"
      ],
      "text/plain": [
       "┏━━━━━━━━━━━━━━━━━━━━━━━━━━━━━━━━━━━━━━┳━━━━━━━━━━━━━━━━━━━━━━━━━━━━━┳━━━━━━━━━━━━━━━━━┓\n",
       "┃\u001b[1m \u001b[0m\u001b[1mLayer (type)                        \u001b[0m\u001b[1m \u001b[0m┃\u001b[1m \u001b[0m\u001b[1mOutput Shape               \u001b[0m\u001b[1m \u001b[0m┃\u001b[1m \u001b[0m\u001b[1m        Param #\u001b[0m\u001b[1m \u001b[0m┃\n",
       "┡━━━━━━━━━━━━━━━━━━━━━━━━━━━━━━━━━━━━━━╇━━━━━━━━━━━━━━━━━━━━━━━━━━━━━╇━━━━━━━━━━━━━━━━━┩\n",
       "│ flatten_9 (\u001b[38;5;33mFlatten\u001b[0m)                  │ (\u001b[38;5;45mNone\u001b[0m, \u001b[38;5;34m126\u001b[0m)                 │               \u001b[38;5;34m0\u001b[0m │\n",
       "├──────────────────────────────────────┼─────────────────────────────┼─────────────────┤\n",
       "│ dense_33 (\u001b[38;5;33mDense\u001b[0m)                     │ (\u001b[38;5;45mNone\u001b[0m, \u001b[38;5;34m512\u001b[0m)                 │          \u001b[38;5;34m65,024\u001b[0m │\n",
       "├──────────────────────────────────────┼─────────────────────────────┼─────────────────┤\n",
       "│ dropout_10 (\u001b[38;5;33mDropout\u001b[0m)                 │ (\u001b[38;5;45mNone\u001b[0m, \u001b[38;5;34m512\u001b[0m)                 │               \u001b[38;5;34m0\u001b[0m │\n",
       "├──────────────────────────────────────┼─────────────────────────────┼─────────────────┤\n",
       "│ dense_34 (\u001b[38;5;33mDense\u001b[0m)                     │ (\u001b[38;5;45mNone\u001b[0m, \u001b[38;5;34m256\u001b[0m)                 │         \u001b[38;5;34m131,328\u001b[0m │\n",
       "├──────────────────────────────────────┼─────────────────────────────┼─────────────────┤\n",
       "│ dense_35 (\u001b[38;5;33mDense\u001b[0m)                     │ (\u001b[38;5;45mNone\u001b[0m, \u001b[38;5;34m128\u001b[0m)                 │          \u001b[38;5;34m32,896\u001b[0m │\n",
       "├──────────────────────────────────────┼─────────────────────────────┼─────────────────┤\n",
       "│ dropout_11 (\u001b[38;5;33mDropout\u001b[0m)                 │ (\u001b[38;5;45mNone\u001b[0m, \u001b[38;5;34m128\u001b[0m)                 │               \u001b[38;5;34m0\u001b[0m │\n",
       "├──────────────────────────────────────┼─────────────────────────────┼─────────────────┤\n",
       "│ dense_36 (\u001b[38;5;33mDense\u001b[0m)                     │ (\u001b[38;5;45mNone\u001b[0m, \u001b[38;5;34m32\u001b[0m)                  │           \u001b[38;5;34m4,128\u001b[0m │\n",
       "├──────────────────────────────────────┼─────────────────────────────┼─────────────────┤\n",
       "│ dense_37 (\u001b[38;5;33mDense\u001b[0m)                     │ (\u001b[38;5;45mNone\u001b[0m, \u001b[38;5;34m26\u001b[0m)                  │             \u001b[38;5;34m858\u001b[0m │\n",
       "└──────────────────────────────────────┴─────────────────────────────┴─────────────────┘\n"
      ]
     },
     "metadata": {},
     "output_type": "display_data"
    },
    {
     "data": {
      "text/html": [
       "<pre style=\"white-space:pre;overflow-x:auto;line-height:normal;font-family:Menlo,'DejaVu Sans Mono',consolas,'Courier New',monospace\"><span style=\"font-weight: bold\"> Total params: </span><span style=\"color: #00af00; text-decoration-color: #00af00\">702,704</span> (2.68 MB)\n",
       "</pre>\n"
      ],
      "text/plain": [
       "\u001b[1m Total params: \u001b[0m\u001b[38;5;34m702,704\u001b[0m (2.68 MB)\n"
      ]
     },
     "metadata": {},
     "output_type": "display_data"
    },
    {
     "data": {
      "text/html": [
       "<pre style=\"white-space:pre;overflow-x:auto;line-height:normal;font-family:Menlo,'DejaVu Sans Mono',consolas,'Courier New',monospace\"><span style=\"font-weight: bold\"> Trainable params: </span><span style=\"color: #00af00; text-decoration-color: #00af00\">234,234</span> (914.98 KB)\n",
       "</pre>\n"
      ],
      "text/plain": [
       "\u001b[1m Trainable params: \u001b[0m\u001b[38;5;34m234,234\u001b[0m (914.98 KB)\n"
      ]
     },
     "metadata": {},
     "output_type": "display_data"
    },
    {
     "data": {
      "text/html": [
       "<pre style=\"white-space:pre;overflow-x:auto;line-height:normal;font-family:Menlo,'DejaVu Sans Mono',consolas,'Courier New',monospace\"><span style=\"font-weight: bold\"> Non-trainable params: </span><span style=\"color: #00af00; text-decoration-color: #00af00\">0</span> (0.00 B)\n",
       "</pre>\n"
      ],
      "text/plain": [
       "\u001b[1m Non-trainable params: \u001b[0m\u001b[38;5;34m0\u001b[0m (0.00 B)\n"
      ]
     },
     "metadata": {},
     "output_type": "display_data"
    },
    {
     "data": {
      "text/html": [
       "<pre style=\"white-space:pre;overflow-x:auto;line-height:normal;font-family:Menlo,'DejaVu Sans Mono',consolas,'Courier New',monospace\"><span style=\"font-weight: bold\"> Optimizer params: </span><span style=\"color: #00af00; text-decoration-color: #00af00\">468,470</span> (1.79 MB)\n",
       "</pre>\n"
      ],
      "text/plain": [
       "\u001b[1m Optimizer params: \u001b[0m\u001b[38;5;34m468,470\u001b[0m (1.79 MB)\n"
      ]
     },
     "metadata": {},
     "output_type": "display_data"
    }
   ],
   "source": [
    "import tensorflow as tf\n",
    "# Memuat model dari file .keras\n",
    "model = tf.keras.models.load_model('model3.keras')\n",
    "\n",
    "# Verifikasi arsitektur model\n",
    "model.summary()"
   ]
  },
  {
   "cell_type": "code",
   "execution_count": 7,
   "id": "48ddf6ea-ad31-4307-9f5f-5f530f98359a",
   "metadata": {},
   "outputs": [],
   "source": [
    "class input_pipeline:\n",
    "    def __init__(self, task = 'hand_landmarker.task', model = 'model1.keras'):\n",
    "        #Inisialisasi Model Mediapipe\n",
    "        base_options = python.BaseOptions(model_asset_path= task)\n",
    "        options = vision.HandLandmarkerOptions(base_options=base_options,\n",
    "                                               num_hands=2)\n",
    "        detector = vision.HandLandmarker.create_from_options(options)\n",
    "\n",
    "        #Inisialisasi Model machinelearning\n",
    "        model = tf.keras.models.load_model(model)\n",
    "\n",
    "        self.detector = detector\n",
    "        self.model = model\n",
    "\n",
    "    def __call__(self, frame):\n",
    "        self.extracted_landmarks = self.end2endProcess(frame)\n",
    "        return self.extracted_landmarks\n",
    "    \n",
    "    def predict_landmarks(self, frame):\n",
    "        image = mp.Image(image_format = mp.ImageFormat.SRGB, data = frame)\n",
    "\n",
    "        return self.detector.detect(image)\n",
    "\n",
    "    \n",
    "    def adjust_landmarks(self, hand_landmarks):\n",
    "        reference_point = hand_landmarks[0]\n",
    "        adjusted_landmarks = []\n",
    "        \n",
    "        for landmark in hand_landmarks:\n",
    "            adjusted_landmarks.append([\n",
    "                landmark[0] - reference_point[0],\n",
    "                landmark[1] - reference_point[1],\n",
    "                landmark[2] - reference_point[2]\n",
    "            ])\n",
    "        return np.array(adjusted_landmarks)\n",
    "\n",
    "    \n",
    "    def extract_keypoints(self, landmark_result):\n",
    "        lh = np.zeros((21,3))\n",
    "        rh = np.zeros((21,3))\n",
    "        \n",
    "        if landmark_result.handedness is not None:\n",
    "        #Ekstrak koordinat landmarks\n",
    "            for index, handedness in enumerate(landmark_result.handedness):\n",
    "                if handedness[0].display_name == 'Right':\n",
    "                    rh = [[landmark.x, landmark.y, landmark.z]for landmark in landmark_result.hand_landmarks[index]]\n",
    "                if handedness[0].display_name == 'Left':\n",
    "                    lh = [[landmark.x, landmark.y, landmark.z]for landmark in landmark_result.hand_landmarks[index]]\n",
    "\n",
    "        #Gabungkan Landmarks\n",
    "        self.lh = self.adjust_landmarks(lh)\n",
    "        self.rh = self.adjust_landmarks(rh)\n",
    "        self.concatenated_landmarks = np.concatenate([\n",
    "            self.lh.flatten(),\n",
    "            self.rh.flatten()\n",
    "        ])\n",
    "        \n",
    "        #Gabungkan landmarks menjadi satu list\n",
    "        return self.concatenated_landmarks\n",
    "\n",
    "\n",
    "    def end2endProcess(self, frame):\n",
    "        mediapipe_result = self.predict_landmarks(frame) \n",
    "        extracted_keypoints = self.extract_keypoints(mediapipe_result)\n",
    "\n",
    "        return extracted_keypoints\n",
    "\n",
    "    def predict_sign(self, treshold = 0.5):\n",
    "        expanded_landmarks = np.expand_dims(self.extracted_landmarks, axis = 0)\n",
    "        self.prediksi = model.predict(expanded_landmarks)\n",
    "        predicted_class = np.where(self.prediksi[0] >= treshold )[0] if np.where(self.prediksi[0] >= treshold )[0].size > 0 else None\n",
    "        \n",
    "        return predicted_class, self.prediksi"
   ]
  },
  {
   "cell_type": "code",
   "execution_count": 10,
   "id": "5e02406b-3bf6-4637-a17b-7c3945613d57",
   "metadata": {},
   "outputs": [],
   "source": [
    "testClass = input_pipeline()"
   ]
  },
  {
   "cell_type": "code",
   "execution_count": 11,
   "id": "e353087a-f672-4f21-9792-6eec44e07532",
   "metadata": {},
   "outputs": [
    {
     "data": {
      "text/plain": [
       "array([ 0.        ,  0.        ,  0.        , -0.02856439, -0.0632028 ,\n",
       "        0.00508087, -0.09323025, -0.09631053, -0.00206872, -0.15724909,\n",
       "       -0.09975663, -0.00876094, -0.19729316, -0.08600384, -0.01571309,\n",
       "       -0.08294946, -0.08006623, -0.02804998, -0.16432822, -0.09181619,\n",
       "       -0.03749431, -0.16208029, -0.08442396, -0.03917675, -0.14904648,\n",
       "       -0.07703522, -0.03894551, -0.08873308, -0.03897509, -0.03502393,\n",
       "       -0.17451382, -0.05646074, -0.03830078, -0.16431409, -0.05714068,\n",
       "       -0.03270792, -0.14420265, -0.05534264, -0.03146545, -0.09598911,\n",
       "       -0.0023202 , -0.03908794, -0.17055547, -0.02626711, -0.03977313,\n",
       "       -0.15910417, -0.03149414, -0.02814142, -0.13983011, -0.0315837 ,\n",
       "       -0.02278631, -0.10334456,  0.02840099, -0.04183211, -0.15557259,\n",
       "        0.00457636, -0.03974959, -0.14598602, -0.00218058, -0.02810943,\n",
       "       -0.13153809, -0.00155562, -0.02144485,  0.        ,  0.        ,\n",
       "        0.        ,  0.05240029, -0.04680064,  0.00515131,  0.09988153,\n",
       "       -0.05818677,  0.00652803,  0.13525307, -0.04377466,  0.00625806,\n",
       "        0.15268523, -0.03298917,  0.00714081,  0.15614337, -0.00846586,\n",
       "       -0.00211964,  0.20402789, -0.0011332 , -0.00090541,  0.19001269,\n",
       "       -0.0115214 ,  0.00343312,  0.16657567, -0.01742318,  0.007435  ,\n",
       "        0.14491636,  0.03087476, -0.00480614,  0.18419117,  0.02748576,\n",
       "        0.00314845,  0.1714325 ,  0.01275674,  0.01055682,  0.14931202,\n",
       "        0.00876811,  0.01368644,  0.12435424,  0.05981356, -0.00627827,\n",
       "        0.16227353,  0.05403951,  0.00064539,  0.15245271,  0.03832939,\n",
       "        0.00802352,  0.13197547,  0.03212786,  0.01074756,  0.10150319,\n",
       "        0.07953656, -0.00743007,  0.13429046,  0.07143158, -0.00119155,\n",
       "        0.13088644,  0.05747026,  0.00704816,  0.11502647,  0.04994029,\n",
       "        0.01338155])"
      ]
     },
     "execution_count": 11,
     "metadata": {},
     "output_type": "execute_result"
    }
   ],
   "source": [
    "testClass(cv2.cvtColor(cv2.imread(\"D:\\Kuliah\\StudiIndependen-Bangkit-ML-2024\\capstone\\data_Nanta\\G\\IMG20230207085011_jpg.rf.8c1a849e9b5795a589ebb3f03f625bb5.jpg\"), cv2.COLOR_BGR2RGB))"
   ]
  },
  {
   "cell_type": "code",
   "execution_count": 12,
   "id": "4e172eb8-24f8-481d-84fb-eaf96ca9e222",
   "metadata": {},
   "outputs": [
    {
     "name": "stdout",
     "output_type": "stream",
     "text": [
      "\u001b[1m1/1\u001b[0m \u001b[32m━━━━━━━━━━━━━━━━━━━━\u001b[0m\u001b[37m\u001b[0m \u001b[1m0s\u001b[0m 69ms/step\n"
     ]
    }
   ],
   "source": [
    "hasil, array_hasil = testClass.predict_sign()"
   ]
  },
  {
   "cell_type": "code",
   "execution_count": 13,
   "id": "e175e75d-1985-4b72-8817-9d81b19e5056",
   "metadata": {},
   "outputs": [
    {
     "name": "stdout",
     "output_type": "stream",
     "text": [
      "[]\n"
     ]
    }
   ],
   "source": [
    "valid_indices = np.where(array_hasil[0] >= 1)[0] if np.where(array_hasil[0] >= 0.5)[0].size > 0 else None\n",
    "print(valid_indices)"
   ]
  },
  {
   "cell_type": "code",
   "execution_count": 14,
   "id": "411291c3-5056-42e1-93bc-49daf380569f",
   "metadata": {},
   "outputs": [
    {
     "name": "stdout",
     "output_type": "stream",
     "text": [
      "[6]\n"
     ]
    }
   ],
   "source": [
    "print(hasil)"
   ]
  },
  {
   "cell_type": "code",
   "execution_count": 16,
   "id": "4486ab2c-65b3-4b4a-a311-e4acd0f0da8a",
   "metadata": {},
   "outputs": [
    {
     "ename": "SyntaxError",
     "evalue": "invalid syntax (3427562644.py, line 11)",
     "output_type": "error",
     "traceback": [
      "\u001b[1;36m  Cell \u001b[1;32mIn[16], line 11\u001b[1;36m\u001b[0m\n\u001b[1;33m    threshold =\u001b[0m\n\u001b[1;37m                ^\u001b[0m\n\u001b[1;31mSyntaxError\u001b[0m\u001b[1;31m:\u001b[0m invalid syntax\n"
     ]
    }
   ],
   "source": [
    "# Data array\n",
    "data = np.array([[2.7437562e-36, 2.2299391e-17, 4.5922667e-27, 0.0000000e+00,\n",
    "                  7.3517858e-12, 2.0128831e-11, 1.0000000e+00, 0.0000000e+00,\n",
    "                  0.0000000e+00, 1.9008328e-15, 0.0000000e+00, 2.8198281e-35,\n",
    "                  8.3032325e-32, 6.8006050e-22, 8.2360395e-32, 5.3941737e-35,\n",
    "                  1.2566813e-29, 0.0000000e+00, 2.5070255e-17, 0.0000000e+00,\n",
    "                  6.8833360e-16, 0.0000000e+00, 0.0000000e+00, 0.0000000e+00,\n",
    "                  3.9816983e-11, 4.6761695e-10]], dtype=np.float32)\n",
    "\n",
    "# Threshold\n",
    "threshold = \n",
    "\n",
    "# Ternary condition to check and assign values\n",
    "result = data[0][data[0] >= threshold] if np.any(data[0] >= threshold) else 0\n",
    "\n",
    "# Output\n",
    "print(\"Result:\", result)\n"
   ]
  }
 ],
 "metadata": {
  "kernelspec": {
   "display_name": "Python 3 (ipykernel)",
   "language": "python",
   "name": "python3"
  },
  "language_info": {
   "codemirror_mode": {
    "name": "ipython",
    "version": 3
   },
   "file_extension": ".py",
   "mimetype": "text/x-python",
   "name": "python",
   "nbconvert_exporter": "python",
   "pygments_lexer": "ipython3",
   "version": "3.9.20"
  }
 },
 "nbformat": 4,
 "nbformat_minor": 5
}
