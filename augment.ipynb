{
 "cells": [
  {
   "cell_type": "code",
   "execution_count": 2,
   "metadata": {},
   "outputs": [],
   "source": [
    "import os\n",
    "import tensorflow as tf\n",
    "from tensorflow.keras.preprocessing.image import ImageDataGenerator\n",
    "import numpy as np\n",
    "from tensorflow.keras.preprocessing import image"
   ]
  },
  {
   "cell_type": "code",
   "execution_count": 3,
   "metadata": {},
   "outputs": [
    {
     "data": {
      "text/plain": [
       "'D:\\\\Kuliah\\\\StudiIndependen-Bangkit-ML-2024\\\\capstone'"
      ]
     },
     "execution_count": 3,
     "metadata": {},
     "output_type": "execute_result"
    }
   ],
   "source": [
    "os.getcwd()"
   ]
  },
  {
   "cell_type": "code",
   "execution_count": 4,
   "metadata": {},
   "outputs": [],
   "source": [
    "datagen = ImageDataGenerator(\n",
    "    rotation_range=20,\n",
    "    # width_shift_range=0.2,\n",
    "    # height_shift_range=0.2,\n",
    "    # shear_range=0.2,\n",
    "    zoom_range=0.2,\n",
    "    horizontal_flip=True,\n",
    "    # vertical_flip=True,\n",
    "    fill_mode='constant',\n",
    "    cval = 255\n",
    ")\n"
   ]
  },
  {
   "cell_type": "code",
   "execution_count": 6,
   "metadata": {},
   "outputs": [
    {
     "name": "stdout",
     "output_type": "stream",
     "text": [
      "Processing folder: A\n",
      "Augmentation completed for folder: A\n",
      "Processing folder: B\n",
      "Augmentation completed for folder: B\n",
      "Processing folder: C\n",
      "Augmentation completed for folder: C\n",
      "Processing folder: D\n",
      "Augmentation completed for folder: D\n",
      "Processing folder: E\n",
      "Augmentation completed for folder: E\n",
      "Processing folder: F\n",
      "Augmentation completed for folder: F\n",
      "Processing folder: G\n",
      "Augmentation completed for folder: G\n",
      "Processing folder: H\n",
      "Augmentation completed for folder: H\n",
      "Processing folder: I\n",
      "Augmentation completed for folder: I\n",
      "Processing folder: J\n",
      "Augmentation completed for folder: J\n",
      "Processing folder: K\n",
      "Augmentation completed for folder: K\n",
      "Processing folder: L\n",
      "Augmentation completed for folder: L\n",
      "Processing folder: M\n",
      "Augmentation completed for folder: M\n",
      "Processing folder: N\n",
      "Augmentation completed for folder: N\n",
      "Processing folder: O\n",
      "Augmentation completed for folder: O\n",
      "Processing folder: P\n",
      "Augmentation completed for folder: P\n",
      "Processing folder: Q\n",
      "Augmentation completed for folder: Q\n",
      "Processing folder: R\n",
      "Augmentation completed for folder: R\n",
      "Processing folder: S\n",
      "Augmentation completed for folder: S\n",
      "Processing folder: T\n",
      "Augmentation completed for folder: T\n",
      "Processing folder: U\n",
      "Augmentation completed for folder: U\n",
      "Processing folder: V\n",
      "Augmentation completed for folder: V\n",
      "Processing folder: W\n",
      "Augmentation completed for folder: W\n",
      "Processing folder: X\n",
      "Augmentation completed for folder: X\n",
      "Processing folder: Y\n",
      "Augmentation completed for folder: Y\n",
      "Processing folder: Z\n",
      "Augmentation completed for folder: Z\n",
      "All augmentations completed.\n"
     ]
    }
   ],
   "source": [
    "\n",
    "# Set the directory where your images are located\n",
    "base_dir = os.path.join(os.getcwd(), 'train')\n",
    "augmented_dir = os.path.join(os.getcwd(), 'train_augmented')\n",
    "# Loop through each folder (A to Z) in the base directory\n",
    "for folder in os.listdir(base_dir):\n",
    "    folder_path = os.path.join(base_dir, folder)\n",
    "    \n",
    "    if os.path.isdir(folder_path):  # Ensure it's a directory\n",
    "        print(f\"Processing folder: {folder}\")\n",
    "        \n",
    "        # Get list of images in the folder\n",
    "        image_files = [f for f in os.listdir(folder_path) if f.endswith('.jpg') or f.endswith('.jpeg')]\n",
    "        \n",
    "        for img_file in image_files:\n",
    "            img_path = os.path.join(folder_path, img_file)\n",
    "            \n",
    "            # Load the image\n",
    "            img = image.load_img(img_path)\n",
    "            x = image.img_to_array(img)\n",
    "            x = np.expand_dims(x, axis=0)\n",
    "            \n",
    "            # Create a directory to save augmented images\n",
    "            augmented_folder = os.path.join(augmented_dir, folder)\n",
    "            if not os.path.exists(augmented_folder):\n",
    "                os.makedirs(augmented_folder)\n",
    "            \n",
    "            # Use the flow method to augment and save the images\n",
    "            i = 0\n",
    "            for batch in datagen.flow(x, batch_size=1, save_to_dir=augmented_folder, save_prefix='aug', save_format='jpeg'):\n",
    "                i += 1\n",
    "                if i >= 5:  # Save 5 augmented versions per image\n",
    "                    break\n",
    "\n",
    "        print(f\"Augmentation completed for folder: {folder}\")\n",
    "\n",
    "print(\"All augmentations completed.\")"
   ]
  }
 ],
 "metadata": {
  "kernelspec": {
   "display_name": "Python 3 (ipykernel)",
   "language": "python",
   "name": "python3"
  },
  "language_info": {
   "codemirror_mode": {
    "name": "ipython",
    "version": 3
   },
   "file_extension": ".py",
   "mimetype": "text/x-python",
   "name": "python",
   "nbconvert_exporter": "python",
   "pygments_lexer": "ipython3",
   "version": "3.9.20"
  }
 },
 "nbformat": 4,
 "nbformat_minor": 4
}
